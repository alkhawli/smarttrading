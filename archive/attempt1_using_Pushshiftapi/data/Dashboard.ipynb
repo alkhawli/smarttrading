{
 "metadata": {
  "language_info": {
   "codemirror_mode": {
    "name": "ipython",
    "version": 3
   },
   "file_extension": ".py",
   "mimetype": "text/x-python",
   "name": "python",
   "nbconvert_exporter": "python",
   "pygments_lexer": "ipython3",
   "version": "3.7.10-final"
  },
  "orig_nbformat": 2,
  "kernelspec": {
   "name": "python3",
   "display_name": "Python 3.7.10 64-bit (conda)",
   "metadata": {
    "interpreter": {
     "hash": "033d9add45c8e29c6cc62303333997916d77d38c265ae6b419e9ab1b4f01044e"
    }
   }
  }
 },
 "nbformat": 4,
 "nbformat_minor": 2,
 "cells": [
  {
   "cell_type": "code",
   "execution_count": 2,
   "metadata": {},
   "outputs": [
    {
     "output_type": "error",
     "ename": "SyntaxError",
     "evalue": "invalid syntax (<ipython-input-2-fb2f34315580>, line 20)",
     "traceback": [
      "\u001b[1;36m  File \u001b[1;32m\"<ipython-input-2-fb2f34315580>\"\u001b[1;36m, line \u001b[1;32m20\u001b[0m\n\u001b[1;33m    ], style={'display': 'inline-block', 'width': '49%'}, 'padding': '0 20'}),\u001b[0m\n\u001b[1;37m                                                                   ^\u001b[0m\n\u001b[1;31mSyntaxError\u001b[0m\u001b[1;31m:\u001b[0m invalid syntax\n"
     ]
    }
   ],
   "source": [
    "import dash\n",
    "import dash_core_components as dcc\n",
    "import dash_html_components as html\n",
    "import pandas as pd\n",
    "import plotly.express as px\n",
    "\n",
    "external_stylesheets = ['https://codepen.io/chriddyp/pen/bWLwgP.css']\n",
    "\n",
    "app = dash.Dash(__name__, external_stylesheets=external_stylesheets)\n",
    "df = px.data.gapminder().query(\"continent == 'Europe' and pop > 2.e6\")\n",
    "\n",
    "app.layout = html.Div([\n",
    "    html.Div([\n",
    "        dcc.Graph(\n",
    "            id='crossfilter-indicator-scatter',\n",
    "        )\n",
    "    ], style={'width': '49%', 'display': 'inline-block', 'padding': '0 20'}),\n",
    "    html.Div([\n",
    "        dcc.Graph(id='y-time-series'),\n",
    "    ], style={'display': 'inline-block', 'width': '49%', 'padding': '0 20'}),\n",
    "])\n",
    "\n",
    "@app.callback(\n",
    "    dash.dependencies.Output('crossfilter-indicator-scatter', 'figure'),\n",
    "     dash.dependencies.Input('y-time-series', 'value')\n",
    "     )\n",
    "def update_graph(a):\n",
    "    global df\n",
    "    df1=df.groupby(['year']).count().reset_index()\n",
    "    fig = px.bar(df1, y='country', x='year', text='pop')\n",
    "    fig.update_layout(margin={'l': 40, 'b': 40, 't': 10, 'r': 0}, hovermode='closest')\n",
    "    return fig\n",
    "\n",
    "\n",
    "@app.callback(\n",
    "     dash.dependencies.Output('y-time-series', 'figure'),\n",
    "     dash.dependencies.Input('crossfilter-indicator-scatter', 'hoverData'),\n",
    ")\n",
    "def update_x_timeseries(hoverData):\n",
    "    global df\n",
    "    print(hoverData)\n",
    "    selectedx=hoverData['points'][0]['x']\n",
    "    df1=df[df.year==selectedx]\n",
    "    fig = px.scatter(df1, x='lifeExp', y='iso_num')\n",
    "    fig.update_traces(mode='lines+markers')\n",
    "    fig.update_layout(margin={'l': 40, 'b': 40, 'r': 10, 't': 0})\n",
    "    return fig\n",
    "\n",
    "if __name__ == '__main__':\n",
    "    app.run_server(debug=False)\n"
   ]
  },
  {
   "cell_type": "code",
   "execution_count": null,
   "metadata": {},
   "outputs": [],
   "source": []
  }
 ]
}