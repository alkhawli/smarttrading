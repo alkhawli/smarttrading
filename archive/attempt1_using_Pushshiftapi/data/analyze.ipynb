{
 "metadata": {
  "language_info": {
   "codemirror_mode": {
    "name": "ipython",
    "version": 3
   },
   "file_extension": ".py",
   "mimetype": "text/x-python",
   "name": "python",
   "nbconvert_exporter": "python",
   "pygments_lexer": "ipython3",
   "version": "3.7.10-final"
  },
  "orig_nbformat": 2,
  "kernelspec": {
   "name": "python3",
   "display_name": "Python 3.7.10 64-bit (conda)",
   "metadata": {
    "interpreter": {
     "hash": "033d9add45c8e29c6cc62303333997916d77d38c265ae6b419e9ab1b4f01044e"
    }
   }
  }
 },
 "nbformat": 4,
 "nbformat_minor": 2,
 "cells": [
  {
   "cell_type": "code",
   "execution_count": 80,
   "metadata": {},
   "outputs": [],
   "source": [
    "import pandas as pd\n",
    "from ast import literal_eval\n"
   ]
  },
  {
   "cell_type": "code",
   "execution_count": 124,
   "metadata": {},
   "outputs": [],
   "source": [
    "df=pd.read_csv(\"data-2021-03-17.csv\")\n",
    "df=df.fillna(value=0)\n"
   ]
  },
  {
   "cell_type": "code",
   "execution_count": 125,
   "metadata": {},
   "outputs": [
    {
     "output_type": "stream",
     "name": "stdout",
     "text": [
      "    STOCK                                   LEMMATA_NOUNjoin  \\\n",
      "32   $GME  ,'saving','yolo','stock','amp','stimulus', 'ch...   \n",
      "2    $AMC  'stimy', 'today','piece', 'money','piece', 'mo...   \n",
      "40  $HMNY  'concession', 'increase',,,'cent', 'stock',,'f...   \n",
      "82  $UWMC  'stock', 'chart','yolo','son','dd','profit', '...   \n",
      "38  $HCMC                       'hcmc','hcmc','hcmc', 'hcmc'   \n",
      "..    ...                                                ...   \n",
      "28  $FBDL                               'increase', 'artist'   \n",
      "27  $EXPR  'bill', 'man', 'school', 'coyote', 'expr', 'un...   \n",
      "26   $EDU           'ape', 'care', 'crash', 'stock', 'split'   \n",
      "25   $DDD                                   'loac', 'merger'   \n",
      "44  $KMPH                                                      \n",
      "\n",
      "    LEMMATA_NOUNcount  \n",
      "32                 36  \n",
      "2                  17  \n",
      "40                  6  \n",
      "82                  5  \n",
      "38                  3  \n",
      "..                ...  \n",
      "28                  1  \n",
      "27                  1  \n",
      "26                  1  \n",
      "25                  1  \n",
      "44                  1  \n",
      "\n",
      "[89 rows x 3 columns]\n",
      "ipykernel_launcher:5: FutureWarning: Index.ravel returning ndarray is deprecated; in a future version this will return a view on self.\n"
     ]
    }
   ],
   "source": [
    "\n",
    "languagepillar='VERB'\n",
    "df['LEMMATA_'+languagepillar]=df['LEMMATA_'+languagepillar].astype(str)\n",
    "df['LEMMATA_'+languagepillar] = df['LEMMATA_'+languagepillar].map(lambda x: x.strip('[]'))\n",
    "grouped=df.groupby(['STOCK'], as_index = False).agg({'LEMMATA_'+languagepillar: [','.join, 'count']})\n",
    "grouped.columns = [\"\".join(x) for x in grouped.columns.ravel()]\n",
    "grouped=grouped.sort_values(by='LEMMATA_'+languagepillar+\"count\", ascending=False)\n",
    "grouped['LEMMATA_'+languagepillar+'join'] = grouped['LEMMATA_'+languagepillar+'join'].map(lambda x: x.strip(' '))\n",
    "print(grouped)\n",
    "\n",
    "\n",
    "#\n",
    "wordlist = grouped.iloc[0]['LEMMATA_'+languagepillar+'join'].split(',')\n",
    "wordfreq=pd.DataFrame([])\n",
    "for w in wordlist:\n",
    "    if w!='' and w!='0':\n",
    "        wordfreq=wordfreq.append({\"word\":w, \"count\":wordlist.count(w)}, ignore_index=True)\n",
    "wordfreq=wordfreq.sort_values(by=\"count\", ascending=False)\n",
    "wordfreq.drop_duplicates(subset=['count','word'], keep='first',inplace=True)\n",
    "print(wordfreq)\n"
   ]
  },
  {
   "cell_type": "code",
   "execution_count": 126,
   "metadata": {},
   "outputs": [
    {
     "output_type": "stream",
     "name": "stdout",
     "text": [
      "    count          word\n69    5.0   'portfolio'\n59    3.0       'crash'\n64    3.0        'loss'\n68    3.0    'scenario'\n58    3.0         'top'\n..    ...           ...\n32    1.0      'savior'\n31    1.0  'divergence'\n30    1.0       'today'\n29    1.0        'drop'\n98    1.0        'moon'\n\n[78 rows x 2 columns]\n"
     ]
    }
   ],
   "source": []
  },
  {
   "cell_type": "code",
   "execution_count": null,
   "metadata": {},
   "outputs": [],
   "source": []
  },
  {
   "cell_type": "code",
   "execution_count": null,
   "metadata": {},
   "outputs": [],
   "source": []
  }
 ]
}